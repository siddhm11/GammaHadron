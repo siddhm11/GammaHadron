{
  "nbformat": 4,
  "nbformat_minor": 0,
  "metadata": {
    "colab": {
      "provenance": [],
      "authorship_tag": "ABX9TyPxFZ9WIyqqQIocEXuvwvtc",
      "include_colab_link": true
    },
    "kernelspec": {
      "name": "python3",
      "display_name": "Python 3"
    },
    "language_info": {
      "name": "python"
    }
  },
  "cells": [
    {
      "cell_type": "markdown",
      "metadata": {
        "id": "view-in-github",
        "colab_type": "text"
      },
      "source": [
        "<a href=\"https://colab.research.google.com/github/siddhm11/GammaHadron/blob/main/Untitled13.ipynb\" target=\"_parent\"><img src=\"https://colab.research.google.com/assets/colab-badge.svg\" alt=\"Open In Colab\"/></a>"
      ]
    },
    {
      "cell_type": "markdown",
      "source": [
        "# Data Science Tools and Ecosystem\n"
      ],
      "metadata": {
        "id": "EfcKDordArmO"
      }
    },
    {
      "cell_type": "markdown",
      "source": [
        "## Introduction\n",
        "\n",
        "In this notebook, we summarize some of the essential tools, libraries, and languages used in the field of Data Science. It also includes a few code examples to illustrate basic arithmetic operations.\n"
      ],
      "metadata": {
        "id": "B3bfzkUSAuoh"
      }
    },
    {
      "cell_type": "markdown",
      "source": [
        "## Data Science Languages\n",
        "\n",
        "Some of the popular languages that Data Scientists use are:\n",
        "\n",
        "1. Python\n",
        "2. R\n",
        "3. SQL\n",
        "4. Julia\n",
        "5. Scala\n"
      ],
      "metadata": {
        "id": "12Cy1KX8Axcy"
      }
    },
    {
      "cell_type": "markdown",
      "source": [
        "## Data Science Libraries\n",
        "\n",
        "Some of the commonly used libraries by Data Scientists include:\n",
        "\n",
        "1. Pandas\n",
        "2. NumPy\n",
        "3. Scikit-learn\n",
        "4. TensorFlow\n",
        "5. Matplotlib\n"
      ],
      "metadata": {
        "id": "LwRL7jOTAzkg"
      }
    },
    {
      "cell_type": "markdown",
      "source": [
        "## Table of Data Science Tools\n",
        "\n",
        "| Tool           | Category           | Description                        |\n",
        "|----------------|--------------------|------------------------------------|\n",
        "| Jupyter        | Notebook Interface | Interactive coding environment     |\n",
        "| RStudio        | IDE                | Integrated environment for R       |\n",
        "| Apache Spark   | Big Data Framework | Distributed computing framework    |\n",
        "| TensorFlow     | Deep Learning      | Neural network modeling            |\n",
        "| KNIME          | Workflow Tool      | Visual programming for analytics   |\n"
      ],
      "metadata": {
        "id": "XhuCnoD8A2F6"
      }
    },
    {
      "cell_type": "markdown",
      "source": [
        "## Introducing Arithmetic Expressions\n",
        "\n",
        "In this section, we will explore how to perform simple arithmetic operations like addition and multiplication.\n"
      ],
      "metadata": {
        "id": "IRZVEQEqA5F4"
      }
    },
    {
      "cell_type": "code",
      "source": [
        "# This expression multiplies 3 and 4 and then adds 5 to the result\n",
        "result = (3 * 4) + 5\n",
        "result\n"
      ],
      "metadata": {
        "colab": {
          "base_uri": "https://localhost:8080/"
        },
        "id": "5CgdcQOXAsBE",
        "outputId": "85cf362f-8514-4602-fa9a-bbce54a92938"
      },
      "execution_count": 2,
      "outputs": [
        {
          "output_type": "execute_result",
          "data": {
            "text/plain": [
              "17"
            ]
          },
          "metadata": {},
          "execution_count": 2
        }
      ]
    },
    {
      "cell_type": "code",
      "source": [
        "# Convert 200 minutes into hours\n",
        "minutes = 200\n",
        "hours = minutes / 60\n",
        "hours\n"
      ],
      "metadata": {
        "colab": {
          "base_uri": "https://localhost:8080/"
        },
        "id": "OGTa19geA7BY",
        "outputId": "792e3b80-cf12-4caf-8086-c1581b43e7a1"
      },
      "execution_count": 3,
      "outputs": [
        {
          "output_type": "execute_result",
          "data": {
            "text/plain": [
              "3.3333333333333335"
            ]
          },
          "metadata": {},
          "execution_count": 3
        }
      ]
    },
    {
      "cell_type": "markdown",
      "source": [
        "## Objectives\n",
        "\n",
        "- List popular languages for Data Science\n",
        "- Identify commonly used libraries in Data Science\n",
        "- Create tables using Markdown\n",
        "- Demonstrate arithmetic expressions in Python\n",
        "- Convert minutes to hours using Python code\n"
      ],
      "metadata": {
        "id": "bKIDgHi9A_l9"
      }
    },
    {
      "cell_type": "markdown",
      "source": [
        "## Author\n",
        "\n",
        "Siddh Mehta\n"
      ],
      "metadata": {
        "id": "O76qN_QyBBu4"
      }
    },
    {
      "cell_type": "code",
      "source": [],
      "metadata": {
        "id": "QuoPLKoyA9c6"
      },
      "execution_count": null,
      "outputs": []
    }
  ]
}